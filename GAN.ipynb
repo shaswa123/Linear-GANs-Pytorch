{
 "metadata": {
  "language_info": {
   "codemirror_mode": {
    "name": "ipython",
    "version": 3
   },
   "file_extension": ".py",
   "mimetype": "text/x-python",
   "name": "python",
   "nbconvert_exporter": "python",
   "pygments_lexer": "ipython3",
   "version": "3.7.0-final"
  },
  "orig_nbformat": 2,
  "kernelspec": {
   "name": "python3",
   "display_name": "Python 3.7.0 64-bit",
   "metadata": {
    "interpreter": {
     "hash": "6446c4174f852fd8c2f4f989f4990ae150e615a8925597a8faa52fc3577391df"
    }
   }
  }
 },
 "nbformat": 4,
 "nbformat_minor": 2,
 "cells": [
  {
   "source": [
    "# Generative Adversarial Networks (GANs)\n",
    "GANs are a type of deep learning based generative models. Generative models are unsupervised learning method that try to find patterns in the input data in such a way that they can be used to generate new examples that pluasibly could have been drawm from the original dataset.\n",
    "\n",
    "GANs use two sub-models that a trained in a supervised method. The two sub-models are:\n",
    "* Generator model: It is used to generate a pluasible example from the input data.\n",
    "\n",
    "* Discriminator model: It is a classifier that will try to distingush between a generator generated example and the actual example from the input dataset. The generator tries to fool the Discriminator into classifying atleast more than half of the examples it generates as real examples.\n",
    "\n",
    "\n"
   ],
   "cell_type": "markdown",
   "metadata": {}
  },
  {
   "source": [
    "## Import library"
   ],
   "cell_type": "markdown",
   "metadata": {}
  },
  {
   "cell_type": "code",
   "execution_count": 103,
   "metadata": {},
   "outputs": [],
   "source": [
    "import os, time\n",
    "\n",
    "# Plotting libs\n",
    "import matplotlib.pyplot as plt\n",
    "\n",
    "# Pytorch libs\n",
    "import torch\n",
    "import torchvision\n",
    "from torch import nn, optim\n",
    "import torch.nn.functional as F\n",
    "from torchvision import datasets, transforms\n",
    "from torch.autograd import Variable\n",
    "from tqdm import tqdm\n",
    "\n",
    "# Image handling libs\n",
    "import imageio"
   ]
  },
  {
   "cell_type": "code",
   "execution_count": 104,
   "metadata": {
    "tags": []
   },
   "outputs": [
    {
     "output_type": "stream",
     "name": "stdout",
     "text": [
      "Torch version - 1.6.0 \nTorchvision version - 0.7.0\n"
     ]
    }
   ],
   "source": [
    "print(f'Torch version - {torch.__version__} \\nTorchvision version - {torchvision.__version__}')"
   ]
  },
  {
   "cell_type": "code",
   "execution_count": 105,
   "metadata": {},
   "outputs": [],
   "source": [
    "# Scale image values from -1 to 1 to be close to the output of the tanh function\n",
    "def scale(x, feature_range=(-1, 1)):\n",
    "    min, max = feature_range\n",
    "    x = x * (max-min) + min\n",
    "    return x"
   ]
  },
  {
   "source": [
    "### Discriminator\n",
    "A Discriminator is a NN with Linear layers."
   ],
   "cell_type": "markdown",
   "metadata": {}
  },
  {
   "cell_type": "code",
   "execution_count": 106,
   "metadata": {},
   "outputs": [],
   "source": [
    "class Discriminator(nn.Module):\n",
    "    def __init__(self, image_size=28):\n",
    "        super().__init__()\n",
    "        input_features = 1 * image_size * image_size\n",
    "        self.hcl1 = nn.Linear(input_features, 1024)\n",
    "        self.hcl2 = nn.Linear(1024, 512)\n",
    "        self.hcl3 = nn.Linear(512, 256)\n",
    "        self.out = nn.Linear(256, 1)\n",
    "        self.leaky_relu = nn.LeakyReLU(negative_slope=0.2)\n",
    "  \n",
    "    def forward(self, x):\n",
    "        x = self.leaky_relu(self.hcl1(x))\n",
    "        x = self.leaky_relu(self.hcl2(x))\n",
    "        x = self.leaky_relu(self.hcl3(x))\n",
    "        x = torch.sigmoid(self.out(x))\n",
    "        return x"
   ]
  },
  {
   "source": [
    "### Generator"
   ],
   "cell_type": "markdown",
   "metadata": {}
  },
  {
   "cell_type": "code",
   "execution_count": 107,
   "metadata": {},
   "outputs": [],
   "source": [
    "def linear_block(in_features, out_features, batch_norm=True):\n",
    "    layers = []\n",
    "    if batch_norm:\n",
    "        linear_layer = nn.Linear(in_features, out_features, bias=False)\n",
    "        batch_norm = nn.BatchNorm1d(out_features)\n",
    "        layers = [linear_layer, batch_norm]\n",
    "    else:\n",
    "        layers.append(nn.Linear(in_features, out_features))\n",
    "    return nn.Sequential(*layers)"
   ]
  },
  {
   "cell_type": "code",
   "execution_count": 108,
   "metadata": {},
   "outputs": [],
   "source": [
    "class Generator(nn.Module):\n",
    "    def __init__(self, input_features, image_size=28):\n",
    "        super().__init__()\n",
    "        output_features = 1 * image_size * image_size\n",
    "        self.hcl1 = linear_block(input_features, 256)\n",
    "        self.hcl2 = linear_block(256, 512)\n",
    "        self.hcl3 = linear_block(512, 1024)\n",
    "        self.output = linear_block(1024, output_features)\n",
    "        self.leaky_relu = nn.LeakyReLU(0.2)\n",
    "    \n",
    "    def forward(self, x):\n",
    "        x = self.leaky_relu(self.hcl1(x))\n",
    "        x = self.leaky_relu(self.hcl2(x))\n",
    "        x = self.leaky_relu(self.hcl3(x))\n",
    "        x = torch.tanh(self.output(x))\n",
    "        return x"
   ]
  },
  {
   "source": [
    "### Auxiliary functions"
   ],
   "cell_type": "markdown",
   "metadata": {}
  },
  {
   "cell_type": "code",
   "execution_count": 109,
   "metadata": {},
   "outputs": [],
   "source": [
    "def random_vector(batch_size, length):\n",
    "    # Sample from a Gaussian distribution\n",
    "    z_vec = torch.randn(batch_size, length).float()\n",
    "    if torch.cuda.is_available():\n",
    "        z_vec = z_vec.cuda()\n",
    "    return z_vec"
   ]
  },
  {
   "cell_type": "code",
   "execution_count": 110,
   "metadata": {},
   "outputs": [],
   "source": [
    "def graph_loss(loss_dict, save=False, path=\"./loss.png\"):\n",
    "    x = range(len(loss_dict['D_loss']))\n",
    "    \n",
    "    generator_loss = loss_dict['G_loss']\n",
    "    discriminator_loss = loss_dict['D_loss']\n",
    "\n",
    "    plt.plot(x, generator_loss, label='Generator loss')\n",
    "    plt.plot(x, discriminator_loss, label='Discriminator loss')\n",
    "\n",
    "    plt.xlabel('Epochs')\n",
    "    plt.ylabel('Loss')\n",
    "\n",
    "    plt.legend(loc=4) # 4 = Lower right\n",
    "    plt.grid(True) # Show grid\n",
    "    plt.tight_layout() # Crop so no extra white margin\n",
    "\n",
    "    if (save):\n",
    "        plt.savefig(path)\n",
    "    # Display the plot\n",
    "    plt.show()"
   ]
  },
  {
   "cell_type": "code",
   "execution_count": 111,
   "metadata": {},
   "outputs": [],
   "source": [
    "def show_result(num_epoch, display=False, save=False, path='./result.png', fixed_noise=None):\n",
    "    random_noise = random_vector(5*5, 100)\n",
    "    random_noise = Variable(random_noise.cuda(), volatile=True)\n",
    "\n",
    "    G.eval() # We do not want to backprop while evaluation\n",
    "    if (fixed_noise != None):\n",
    "        test_imgs = G(fixed_noise)\n",
    "    else:\n",
    "        test_imgs = G(random_noise)\n",
    "    G.train()\n",
    "\n",
    "    fig, ax = plt.subplots(5, 5, figsize=(5, 5))\n",
    "    for i in range(5):\n",
    "        for j in range(5):\n",
    "            ax[i, j].get_xaxis().set_visible(False)\n",
    "            ax[i, j].get_yaxis().set_visible(False)\n",
    "    \n",
    "    for k in range(5*5):\n",
    "        i = int(k / 5)\n",
    "        j = int(k % 5)\n",
    "        ax[i, j].cla() # Clear the current axes\n",
    "        ax[i, j].imshow(test_imgs[k, :].cpu().data.view(28, 28).numpy(), cmap='gray')\n",
    "\n",
    "    fig.text(0.5, 0.04, f'Epoch {num_epoch}', ha='center')\n",
    "    if (save):\n",
    "        fig.savefig(path)\n",
    "    \n",
    "    if (display):\n",
    "        plt.show()\n",
    "    else:\n",
    "        plt.close()"
   ]
  },
  {
   "source": [
    "### Define constants"
   ],
   "cell_type": "markdown",
   "metadata": {}
  },
  {
   "cell_type": "code",
   "execution_count": 112,
   "metadata": {},
   "outputs": [],
   "source": [
    "BATCH_SIZE = 128\n",
    "LEARNING_RATE =  0.0002\n",
    "EPOCHS = 100\n",
    "z_size = 100\n",
    "FIXED_NOISE = Variable(torch.randn((5*5, 100)).cuda(), volatile=True)"
   ]
  },
  {
   "source": [
    "### Import data"
   ],
   "cell_type": "markdown",
   "metadata": {}
  },
  {
   "cell_type": "code",
   "execution_count": 113,
   "metadata": {},
   "outputs": [],
   "source": [
    "transform = transforms.Compose(\n",
    "    [\n",
    "        transforms.ToTensor(),\n",
    "        transforms.Normalize(\n",
    "            mean=(0.5,), \n",
    "            std = (0.5,)\n",
    "        )\n",
    "    ]\n",
    ")"
   ]
  },
  {
   "cell_type": "code",
   "execution_count": 114,
   "metadata": {
    "tags": []
   },
   "outputs": [],
   "source": [
    "train_loader = torch.utils.data.DataLoader(\n",
    "    datasets.MNIST(\n",
    "        'data', \n",
    "        train=True, \n",
    "        download=True, \n",
    "        transform=transform\n",
    "    ),\n",
    "    batch_size=BATCH_SIZE, \n",
    "    shuffle=True\n",
    ")"
   ]
  },
  {
   "source": [
    "### Define Generator and Discriminator"
   ],
   "cell_type": "markdown",
   "metadata": {}
  },
  {
   "cell_type": "code",
   "execution_count": 115,
   "metadata": {},
   "outputs": [
    {
     "output_type": "execute_result",
     "data": {
      "text/plain": [
       "Generator(\n",
       "  (hcl1): Sequential(\n",
       "    (0): Linear(in_features=100, out_features=256, bias=False)\n",
       "    (1): BatchNorm1d(256, eps=1e-05, momentum=0.1, affine=True, track_running_stats=True)\n",
       "  )\n",
       "  (hcl2): Sequential(\n",
       "    (0): Linear(in_features=256, out_features=512, bias=False)\n",
       "    (1): BatchNorm1d(512, eps=1e-05, momentum=0.1, affine=True, track_running_stats=True)\n",
       "  )\n",
       "  (hcl3): Sequential(\n",
       "    (0): Linear(in_features=512, out_features=1024, bias=False)\n",
       "    (1): BatchNorm1d(1024, eps=1e-05, momentum=0.1, affine=True, track_running_stats=True)\n",
       "  )\n",
       "  (output): Sequential(\n",
       "    (0): Linear(in_features=1024, out_features=784, bias=False)\n",
       "    (1): BatchNorm1d(784, eps=1e-05, momentum=0.1, affine=True, track_running_stats=True)\n",
       "  )\n",
       "  (leaky_relu): LeakyReLU(negative_slope=0.2)\n",
       ")"
      ]
     },
     "metadata": {},
     "execution_count": 115
    }
   ],
   "source": [
    "# Generator will take Random noise of size 100 and output a 28*28 image\n",
    "G = Generator(input_features=z_size)\n",
    "G.cuda()"
   ]
  },
  {
   "cell_type": "code",
   "execution_count": 116,
   "metadata": {},
   "outputs": [
    {
     "output_type": "execute_result",
     "data": {
      "text/plain": [
       "Discriminator(\n",
       "  (hcl1): Linear(in_features=784, out_features=1024, bias=True)\n",
       "  (hcl2): Linear(in_features=1024, out_features=512, bias=True)\n",
       "  (hcl3): Linear(in_features=512, out_features=256, bias=True)\n",
       "  (out): Linear(in_features=256, out_features=1, bias=True)\n",
       "  (leaky_relu): LeakyReLU(negative_slope=0.2)\n",
       ")"
      ]
     },
     "metadata": {},
     "execution_count": 116
    }
   ],
   "source": [
    "# Discriminator will take in 28*28 image and output a real/fake\n",
    "D = Discriminator()\n",
    "D.cuda()"
   ]
  },
  {
   "source": [
    "### Define Loss and Optimizer"
   ],
   "cell_type": "markdown",
   "metadata": {}
  },
  {
   "cell_type": "code",
   "execution_count": 117,
   "metadata": {},
   "outputs": [],
   "source": [
    "# Binary Cross Entropy loss\n",
    "LOSS = nn.BCELoss()\n",
    "\n",
    "# Optimizer\n",
    "G_optimizer = optim.Adam(G.parameters(), lr=LEARNING_RATE, weight_decay=0.001)\n",
    "# LR Schedular\n",
    "G_schedular = torch.optim.lr_scheduler.ReduceLROnPlateau(G_optimizer, mode='min',factor=0.01, patience=2, threshold=1e-2, verbose=True)\n",
    "\n",
    "D_optimizer = optim.Adam(D.parameters(), lr=LEARNING_RATE, weight_decay=0.001)\n",
    "# LR Schedular\n",
    "D_schedular = torch.optim.lr_scheduler.ReduceLROnPlateau(D_optimizer, mode='min',factor=0.01, patience=2, threshold=1e-2, verbose=True)"
   ]
  },
  {
   "source": [
    "### Create output files"
   ],
   "cell_type": "markdown",
   "metadata": {}
  },
  {
   "cell_type": "code",
   "execution_count": 118,
   "metadata": {},
   "outputs": [],
   "source": [
    "# results save folder\n",
    "if not os.path.isdir('Results'):\n",
    "    os.mkdir('Results')\n",
    "if not os.path.isdir('Results/Random'):\n",
    "    os.mkdir('Results/Random')\n",
    "if not os.path.isdir('Results/Fixed'):\n",
    "    os.mkdir('Results/Fixed')"
   ]
  },
  {
   "source": [
    "### Training loop"
   ],
   "cell_type": "markdown",
   "metadata": {}
  },
  {
   "cell_type": "code",
   "execution_count": 119,
   "metadata": {},
   "outputs": [],
   "source": [
    "def real_loss(predictions):\n",
    "    batch_size = predictions.shape[0]\n",
    "    labels = torch.ones(batch_size)\n",
    "    # We use the binary cross entropy loss | Model has a sigmoid function\n",
    "    criterion = nn.BCELoss()\n",
    "    # Move models to GPU if available\n",
    "    if torch.cuda.is_available():\n",
    "        labels = labels.cuda()\n",
    "        criterion = criterion.cuda()\n",
    "    loss = criterion(predictions.squeeze(), labels)\n",
    "    return loss\n",
    "\n",
    "def fake_loss(predictions):\n",
    "    batch_size = predictions.shape[0]\n",
    "    labels = torch.zeros(batch_size)\n",
    "    criterion = nn.BCELoss()\n",
    "    # Move models to GPU if available\n",
    "    if torch.cuda.is_available():\n",
    "        labels = labels.cuda()\n",
    "        criterion = criterion.cuda()\n",
    "    loss = criterion(predictions.squeeze(), labels)\n",
    "    return loss"
   ]
  },
  {
   "cell_type": "code",
   "execution_count": 120,
   "metadata": {},
   "outputs": [],
   "source": [
    "def train_discriminator(generator, discriminator, optimizer, real_data, batch_size, z_size):\n",
    "    # Reshape real_data to vector\n",
    "    real_data = real_data.view(batch_size, -1)\n",
    "    # Rescale real_data to range -1 - 1\n",
    "    real_data = scale(real_data)\n",
    "    \n",
    "    # Reset gradients and set model to training mode\n",
    "    optimizer.zero_grad()\n",
    "    discriminator.train()\n",
    "    \n",
    "    # Train on real data\n",
    "    real_data_logits = discriminator.forward(real_data)\n",
    "    loss_real = real_loss(real_data_logits, smooth=True)\n",
    "    # Generate fake data\n",
    "    z_vec = random_vector(batch_size, z_size)\n",
    "    fake_data = generator.forward(z_vec)\n",
    "    # Train on fake data\n",
    "    fake_data_logits = discriminator.forward(fake_data)\n",
    "    loss_fake = fake_loss(fake_data_logits)\n",
    "    # Calculate total loss\n",
    "    total_loss = loss_real + loss_fake\n",
    "    total_loss.backward()\n",
    "    optimizer.step()\n",
    "    \n",
    "    return total_loss"
   ]
  },
  {
   "cell_type": "code",
   "execution_count": 121,
   "metadata": {},
   "outputs": [],
   "source": [
    "def train_generator(generator, discriminator, optimizer, batch_size, z_size):\n",
    "    # Reset gradients and set model to training mode\n",
    "    optimizer.zero_grad()\n",
    "    generator.train()\n",
    "    # Generate fake data\n",
    "    z_vec = random_vector(batch_size, z_size)\n",
    "    fake_data = generator.forward(z_vec)\n",
    "    # Train generator with output of discriminator\n",
    "    discriminator_logits = discriminator.forward(fake_data)\n",
    "    # Reverse labels\n",
    "    loss = real_loss(discriminator_logits)\n",
    "    loss.backward()\n",
    "    optimizer.step()\n",
    "    return loss"
   ]
  },
  {
   "cell_type": "code",
   "execution_count": 122,
   "metadata": {
    "tags": []
   },
   "outputs": [
    {
     "output_type": "stream",
     "name": "stdout",
     "text": [
      "Epoch 1  Generator loss 9.464292526245117 ; Descriminator loss 0.36508965492248535\n",
      "Epoch 2  Generator loss 10.280353546142578 ; Descriminator loss 0.32746174931526184\n",
      "Epoch 3  Generator loss 9.008798599243164 ; Descriminator loss 0.3271665573120117\n",
      "Epoch 4  Generator loss 8.977583885192871 ; Descriminator loss 0.32800763845443726\n",
      "Epoch 5  Generator loss 8.257104873657227 ; Descriminator loss 0.32760563492774963\n",
      "Epoch 6  Generator loss 7.985717296600342 ; Descriminator loss 0.3267008662223816\n",
      "Epoch     7: reducing learning rate of group 0 to 2.0000e-06.\n",
      "Epoch 7  Generator loss 7.972531318664551 ; Descriminator loss 0.32839030027389526\n",
      "Epoch 8  Generator loss 5.883350849151611 ; Descriminator loss 0.33183249831199646\n",
      "Epoch 9  Generator loss 6.58021354675293 ; Descriminator loss 0.3271361291408539\n",
      "Epoch    10: reducing learning rate of group 0 to 2.0000e-06.\n",
      "Epoch    10: reducing learning rate of group 0 to 2.0000e-08.\n",
      "Epoch 10  Generator loss 7.013965129852295 ; Descriminator loss 0.32637637853622437\n",
      "Epoch 11  Generator loss 7.166536808013916 ; Descriminator loss 0.3261474072933197\n",
      "Epoch 12  Generator loss 7.167116165161133 ; Descriminator loss 0.3261435627937317\n",
      "Epoch    13: reducing learning rate of group 0 to 2.0000e-08.\n",
      "Epoch    13: reducing learning rate of group 0 to 2.0000e-10.\n",
      "Epoch 13  Generator loss 7.172975540161133 ; Descriminator loss 0.3261398375034332\n",
      "Epoch 14  Generator loss 7.1746907234191895 ; Descriminator loss 0.3261331021785736\n",
      "Epoch 15  Generator loss 7.1751298904418945 ; Descriminator loss 0.32613605260849\n",
      "Epoch    16: reducing learning rate of group 0 to 2.0000e-10.\n",
      "Epoch 16  Generator loss 7.174707412719727 ; Descriminator loss 0.3261360824108124\n",
      "Epoch 17  Generator loss 7.174135208129883 ; Descriminator loss 0.32613545656204224\n",
      "Epoch 18  Generator loss 7.1745452880859375 ; Descriminator loss 0.32613733410835266\n",
      "Epoch 19  Generator loss 7.174403190612793 ; Descriminator loss 0.3261345326900482\n",
      "Epoch 20  Generator loss 7.17386531829834 ; Descriminator loss 0.3261355757713318\n",
      "Epoch 21  Generator loss 7.175390720367432 ; Descriminator loss 0.3261359930038452\n",
      "Epoch 22  Generator loss 7.175478458404541 ; Descriminator loss 0.3261346220970154\n",
      "Epoch 23  Generator loss 7.175593852996826 ; Descriminator loss 0.32613494992256165\n",
      "Epoch 24  Generator loss 7.1748223304748535 ; Descriminator loss 0.32613542675971985\n",
      "Epoch 25  Generator loss 7.174833297729492 ; Descriminator loss 0.3261350393295288\n",
      "Epoch 26  Generator loss 7.175898551940918 ; Descriminator loss 0.3261341452598572\n",
      "Epoch 27  Generator loss 7.177341461181641 ; Descriminator loss 0.32613474130630493\n",
      "Epoch 28  Generator loss 7.175961017608643 ; Descriminator loss 0.32613396644592285\n",
      "Epoch 29  Generator loss 7.177046775817871 ; Descriminator loss 0.3261331021785736\n",
      "Epoch 30  Generator loss 7.17570686340332 ; Descriminator loss 0.326132595539093\n",
      "Epoch 31  Generator loss 7.176941394805908 ; Descriminator loss 0.32613280415534973\n",
      "Epoch 32  Generator loss 7.175948143005371 ; Descriminator loss 0.32613328099250793\n",
      "Epoch 33  Generator loss 7.176462173461914 ; Descriminator loss 0.3261314630508423\n",
      "Epoch 34  Generator loss 7.175732612609863 ; Descriminator loss 0.3261321485042572\n",
      "Epoch 35  Generator loss 7.17650842666626 ; Descriminator loss 0.3261309266090393\n",
      "Epoch 36  Generator loss 7.177068710327148 ; Descriminator loss 0.32613223791122437\n",
      "Epoch 37  Generator loss 7.176633358001709 ; Descriminator loss 0.3261319696903229\n",
      "Epoch 38  Generator loss 7.1783881187438965 ; Descriminator loss 0.32613369822502136\n",
      "Epoch 39  Generator loss 7.176302433013916 ; Descriminator loss 0.3261309564113617\n",
      "Epoch 40  Generator loss 7.176853179931641 ; Descriminator loss 0.326130747795105\n",
      "Epoch 41  Generator loss 7.179290294647217 ; Descriminator loss 0.32613110542297363\n",
      "Epoch 42  Generator loss 7.179506301879883 ; Descriminator loss 0.3261306881904602\n",
      "Epoch 43  Generator loss 7.1776041984558105 ; Descriminator loss 0.3261307179927826\n",
      "Epoch 44  Generator loss 7.1776041984558105 ; Descriminator loss 0.32613086700439453\n",
      "Epoch 45  Generator loss 7.178568363189697 ; Descriminator loss 0.3261302411556244\n",
      "Epoch 46  Generator loss 7.178394317626953 ; Descriminator loss 0.326130211353302\n",
      "Epoch 47  Generator loss 7.178851127624512 ; Descriminator loss 0.32613104581832886\n",
      "Epoch 48  Generator loss 7.179059028625488 ; Descriminator loss 0.32612988352775574\n",
      "Epoch 49  Generator loss 7.178869247436523 ; Descriminator loss 0.32612964510917664\n",
      "Epoch 50  Generator loss 7.17987585067749 ; Descriminator loss 0.32612892985343933\n",
      "Epoch 51  Generator loss 7.179797172546387 ; Descriminator loss 0.32612890005111694\n",
      "Epoch 52  Generator loss 7.179893493652344 ; Descriminator loss 0.3261289596557617\n",
      "Epoch 53  Generator loss 7.179982662200928 ; Descriminator loss 0.3261295557022095\n",
      "Epoch 54  Generator loss 7.180175304412842 ; Descriminator loss 0.326130747795105\n",
      "Epoch 55  Generator loss 7.180145263671875 ; Descriminator loss 0.32612961530685425\n",
      "Epoch 56  Generator loss 7.180129051208496 ; Descriminator loss 0.3261299133300781\n",
      "Epoch 57  Generator loss 7.180399417877197 ; Descriminator loss 0.32612812519073486\n",
      "Epoch 58  Generator loss 7.180809497833252 ; Descriminator loss 0.3261280655860901\n",
      "Epoch 59  Generator loss 7.181071758270264 ; Descriminator loss 0.3261277377605438\n",
      "Epoch 60  Generator loss 7.181424140930176 ; Descriminator loss 0.32612738013267517\n",
      "Epoch 61  Generator loss 7.1813883781433105 ; Descriminator loss 0.326126366853714\n",
      "Epoch 62  Generator loss 7.180955410003662 ; Descriminator loss 0.32612863183021545\n",
      "Epoch 63  Generator loss 7.181943893432617 ; Descriminator loss 0.32612690329551697\n",
      "Epoch 64  Generator loss 7.181330680847168 ; Descriminator loss 0.326127827167511\n",
      "Epoch 65  Generator loss 7.181941986083984 ; Descriminator loss 0.3261263072490692\n",
      "Epoch 66  Generator loss 7.182010173797607 ; Descriminator loss 0.32612529397010803\n",
      "Epoch 67  Generator loss 7.182775974273682 ; Descriminator loss 0.3261265158653259\n",
      "Epoch 68  Generator loss 7.182436466217041 ; Descriminator loss 0.3261261582374573\n",
      "Epoch 69  Generator loss 7.1818413734436035 ; Descriminator loss 0.3261270821094513\n",
      "Epoch 70  Generator loss 7.182202339172363 ; Descriminator loss 0.32612624764442444\n",
      "Epoch 71  Generator loss 7.182841777801514 ; Descriminator loss 0.3261266052722931\n",
      "Epoch 72  Generator loss 7.182888031005859 ; Descriminator loss 0.32612526416778564\n",
      "Epoch 73  Generator loss 7.183230400085449 ; Descriminator loss 0.32612666487693787\n",
      "Epoch 74  Generator loss 7.182646751403809 ; Descriminator loss 0.3261251747608185\n",
      "Epoch 75  Generator loss 7.1850152015686035 ; Descriminator loss 0.3261258900165558\n",
      "Epoch 76  Generator loss 7.183963775634766 ; Descriminator loss 0.32612499594688416\n",
      "Epoch 77  Generator loss 7.182808876037598 ; Descriminator loss 0.3261255919933319\n",
      "Epoch 78  Generator loss 7.184381008148193 ; Descriminator loss 0.32612505555152893\n",
      "Epoch 79  Generator loss 7.184876918792725 ; Descriminator loss 0.3261246383190155\n",
      "Epoch 80  Generator loss 7.183958053588867 ; Descriminator loss 0.3261234760284424\n",
      "Epoch 81  Generator loss 7.185562610626221 ; Descriminator loss 0.3261251151561737\n",
      "Epoch 82  Generator loss 7.186431884765625 ; Descriminator loss 0.3261241018772125\n",
      "Epoch 83  Generator loss 7.184815406799316 ; Descriminator loss 0.3261253535747528\n",
      "Epoch 84  Generator loss 7.184991359710693 ; Descriminator loss 0.32612377405166626\n",
      "Epoch 85  Generator loss 7.185434818267822 ; Descriminator loss 0.32612359523773193\n",
      "Epoch 86  Generator loss 7.186432361602783 ; Descriminator loss 0.32612454891204834\n",
      "Epoch 87  Generator loss 7.185413837432861 ; Descriminator loss 0.32612356543540955\n",
      "Epoch 88  Generator loss 7.1864118576049805 ; Descriminator loss 0.3261215090751648\n",
      "Epoch 89  Generator loss 7.186094284057617 ; Descriminator loss 0.3261224925518036\n",
      "Epoch 90  Generator loss 7.186179161071777 ; Descriminator loss 0.3261234164237976\n",
      "Epoch 91  Generator loss 7.186370849609375 ; Descriminator loss 0.32612356543540955\n",
      "Epoch 92  Generator loss 7.186465740203857 ; Descriminator loss 0.3261239528656006\n",
      "Epoch 93  Generator loss 7.185749053955078 ; Descriminator loss 0.32612311840057373\n",
      "Epoch 94  Generator loss 7.186610221862793 ; Descriminator loss 0.32612359523773193\n",
      "Epoch 95  Generator loss 7.186598300933838 ; Descriminator loss 0.3261219561100006\n",
      "Epoch 96  Generator loss 7.186059951782227 ; Descriminator loss 0.3261215388774872\n",
      "Epoch 97  Generator loss 7.188146591186523 ; Descriminator loss 0.3261224627494812\n",
      "Epoch 98  Generator loss 7.188249588012695 ; Descriminator loss 0.3261224925518036\n",
      "Epoch 99  Generator loss 7.187900543212891 ; Descriminator loss 0.32612061500549316\n",
      "Epoch 100  Generator loss 7.188801288604736 ; Descriminator loss 0.3261222541332245\n"
     ]
    }
   ],
   "source": [
    "loss_dict = {}\n",
    "loss_dict['D_loss'] = []\n",
    "loss_dict['G_loss'] = []\n",
    "for epoch in range(EPOCHS):\n",
    "    # Local losses\n",
    "    D_loss = []\n",
    "    G_loss = []\n",
    "\n",
    "    for X, _ in train_loader:\n",
    "\n",
    "        if torch.cuda.is_available():\n",
    "            X = X.cuda()\n",
    "\n",
    "        # Train discriminator D\n",
    "        d_loss = train_discriminator(G, D, D_optimizer, X, X.shape[0], z_size)\n",
    "        D_loss.append(d_loss)\n",
    "\n",
    "        # [==========================xxx============================]\n",
    "        \n",
    "        # Train generator G\n",
    "        g_loss = train_generator(G, D, G_optimizer, X.shape[0], z_size)\n",
    "        G_loss.append(g_loss)\n",
    "        \n",
    "\n",
    "        # [==========================xxx============================]\n",
    "    # Call lr_schedular\n",
    "    G_schedular.step(G_loss[-1])\n",
    "    D_schedular.step(D_loss[-1])\n",
    "\n",
    "    # Display Epoch and loss\n",
    "    display = f'Epoch {epoch + 1}  Generator loss {torch.mean(torch.FloatTensor(G_loss))} ; Descriminator loss {torch.mean(torch.FloatTensor(D_loss))}'\n",
    "    print(display)\n",
    "    loss_dict['D_loss'].append(torch.mean(torch.FloatTensor(D_loss)))\n",
    "    loss_dict['G_loss'].append(torch.mean(torch.FloatTensor(G_loss)))\n",
    "    # Saving the results of this epoch\n",
    "    show_result(epoch + 1, save=True, path='Results/Random/' + str(epoch + 1) + '.png')\n",
    "    show_result(epoch + 1, save=True, path='Results/Fixed/' + str(epoch + 1) + '.png', fixed_noise=FIXED_NOISE)"
   ]
  },
  {
   "cell_type": "code",
   "execution_count": 123,
   "metadata": {},
   "outputs": [
    {
     "output_type": "display_data",
     "data": {
      "text/plain": "<Figure size 432x288 with 1 Axes>",
      "image/svg+xml": "<?xml version=\"1.0\" encoding=\"utf-8\" standalone=\"no\"?>\r\n<!DOCTYPE svg PUBLIC \"-//W3C//DTD SVG 1.1//EN\"\r\n  \"http://www.w3.org/Graphics/SVG/1.1/DTD/svg11.dtd\">\r\n<!-- Created with matplotlib (https://matplotlib.org/) -->\r\n<svg height=\"280.15625pt\" version=\"1.1\" viewBox=\"0 0 424.453125 280.15625\" width=\"424.453125pt\" xmlns=\"http://www.w3.org/2000/svg\" xmlns:xlink=\"http://www.w3.org/1999/xlink\">\r\n <defs>\r\n  <style type=\"text/css\">\r\n*{stroke-linecap:butt;stroke-linejoin:round;}\r\n  </style>\r\n </defs>\r\n <g id=\"figure_1\">\r\n  <g id=\"patch_1\">\r\n   <path d=\"M 0 280.15625 \r\nL 424.453125 280.15625 \r\nL 424.453125 0 \r\nL 0 0 \r\nz\r\n\" style=\"fill:none;\"/>\r\n  </g>\r\n  <g id=\"axes_1\">\r\n   <g id=\"patch_2\">\r\n    <path d=\"M 40.603125 242.6 \r\nL 417.253125 242.6 \r\nL 417.253125 7.2 \r\nL 40.603125 7.2 \r\nz\r\n\" style=\"fill:#ffffff;\"/>\r\n   </g>\r\n   <g id=\"matplotlib.axis_1\">\r\n    <g id=\"xtick_1\">\r\n     <g id=\"line2d_1\">\r\n      <path clip-path=\"url(#p72b62fcad5)\" d=\"M 57.72358 242.6 \r\nL 57.72358 7.2 \r\n\" style=\"fill:none;stroke:#b0b0b0;stroke-linecap:square;stroke-width:0.8;\"/>\r\n     </g>\r\n     <g id=\"line2d_2\">\r\n      <defs>\r\n       <path d=\"M 0 0 \r\nL 0 3.5 \r\n\" id=\"m49339a7dcc\" style=\"stroke:#000000;stroke-width:0.8;\"/>\r\n      </defs>\r\n      <g>\r\n       <use style=\"stroke:#000000;stroke-width:0.8;\" x=\"57.72358\" xlink:href=\"#m49339a7dcc\" y=\"242.6\"/>\r\n      </g>\r\n     </g>\r\n     <g id=\"text_1\">\r\n      <!-- 0 -->\r\n      <defs>\r\n       <path d=\"M 31.78125 66.40625 \r\nQ 24.171875 66.40625 20.328125 58.90625 \r\nQ 16.5 51.421875 16.5 36.375 \r\nQ 16.5 21.390625 20.328125 13.890625 \r\nQ 24.171875 6.390625 31.78125 6.390625 \r\nQ 39.453125 6.390625 43.28125 13.890625 \r\nQ 47.125 21.390625 47.125 36.375 \r\nQ 47.125 51.421875 43.28125 58.90625 \r\nQ 39.453125 66.40625 31.78125 66.40625 \r\nz\r\nM 31.78125 74.21875 \r\nQ 44.046875 74.21875 50.515625 64.515625 \r\nQ 56.984375 54.828125 56.984375 36.375 \r\nQ 56.984375 17.96875 50.515625 8.265625 \r\nQ 44.046875 -1.421875 31.78125 -1.421875 \r\nQ 19.53125 -1.421875 13.0625 8.265625 \r\nQ 6.59375 17.96875 6.59375 36.375 \r\nQ 6.59375 54.828125 13.0625 64.515625 \r\nQ 19.53125 74.21875 31.78125 74.21875 \r\nz\r\n\" id=\"DejaVuSans-48\"/>\r\n      </defs>\r\n      <g transform=\"translate(54.54233 257.198437)scale(0.1 -0.1)\">\r\n       <use xlink:href=\"#DejaVuSans-48\"/>\r\n      </g>\r\n     </g>\r\n    </g>\r\n    <g id=\"xtick_2\">\r\n     <g id=\"line2d_3\">\r\n      <path clip-path=\"url(#p72b62fcad5)\" d=\"M 126.897133 242.6 \r\nL 126.897133 7.2 \r\n\" style=\"fill:none;stroke:#b0b0b0;stroke-linecap:square;stroke-width:0.8;\"/>\r\n     </g>\r\n     <g id=\"line2d_4\">\r\n      <g>\r\n       <use style=\"stroke:#000000;stroke-width:0.8;\" x=\"126.897133\" xlink:href=\"#m49339a7dcc\" y=\"242.6\"/>\r\n      </g>\r\n     </g>\r\n     <g id=\"text_2\">\r\n      <!-- 20 -->\r\n      <defs>\r\n       <path d=\"M 19.1875 8.296875 \r\nL 53.609375 8.296875 \r\nL 53.609375 0 \r\nL 7.328125 0 \r\nL 7.328125 8.296875 \r\nQ 12.9375 14.109375 22.625 23.890625 \r\nQ 32.328125 33.6875 34.8125 36.53125 \r\nQ 39.546875 41.84375 41.421875 45.53125 \r\nQ 43.3125 49.21875 43.3125 52.78125 \r\nQ 43.3125 58.59375 39.234375 62.25 \r\nQ 35.15625 65.921875 28.609375 65.921875 \r\nQ 23.96875 65.921875 18.8125 64.3125 \r\nQ 13.671875 62.703125 7.8125 59.421875 \r\nL 7.8125 69.390625 \r\nQ 13.765625 71.78125 18.9375 73 \r\nQ 24.125 74.21875 28.421875 74.21875 \r\nQ 39.75 74.21875 46.484375 68.546875 \r\nQ 53.21875 62.890625 53.21875 53.421875 \r\nQ 53.21875 48.921875 51.53125 44.890625 \r\nQ 49.859375 40.875 45.40625 35.40625 \r\nQ 44.1875 33.984375 37.640625 27.21875 \r\nQ 31.109375 20.453125 19.1875 8.296875 \r\nz\r\n\" id=\"DejaVuSans-50\"/>\r\n      </defs>\r\n      <g transform=\"translate(120.534633 257.198437)scale(0.1 -0.1)\">\r\n       <use xlink:href=\"#DejaVuSans-50\"/>\r\n       <use x=\"63.623047\" xlink:href=\"#DejaVuSans-48\"/>\r\n      </g>\r\n     </g>\r\n    </g>\r\n    <g id=\"xtick_3\">\r\n     <g id=\"line2d_5\">\r\n      <path clip-path=\"url(#p72b62fcad5)\" d=\"M 196.070687 242.6 \r\nL 196.070687 7.2 \r\n\" style=\"fill:none;stroke:#b0b0b0;stroke-linecap:square;stroke-width:0.8;\"/>\r\n     </g>\r\n     <g id=\"line2d_6\">\r\n      <g>\r\n       <use style=\"stroke:#000000;stroke-width:0.8;\" x=\"196.070687\" xlink:href=\"#m49339a7dcc\" y=\"242.6\"/>\r\n      </g>\r\n     </g>\r\n     <g id=\"text_3\">\r\n      <!-- 40 -->\r\n      <defs>\r\n       <path d=\"M 37.796875 64.3125 \r\nL 12.890625 25.390625 \r\nL 37.796875 25.390625 \r\nz\r\nM 35.203125 72.90625 \r\nL 47.609375 72.90625 \r\nL 47.609375 25.390625 \r\nL 58.015625 25.390625 \r\nL 58.015625 17.1875 \r\nL 47.609375 17.1875 \r\nL 47.609375 0 \r\nL 37.796875 0 \r\nL 37.796875 17.1875 \r\nL 4.890625 17.1875 \r\nL 4.890625 26.703125 \r\nz\r\n\" id=\"DejaVuSans-52\"/>\r\n      </defs>\r\n      <g transform=\"translate(189.708187 257.198437)scale(0.1 -0.1)\">\r\n       <use xlink:href=\"#DejaVuSans-52\"/>\r\n       <use x=\"63.623047\" xlink:href=\"#DejaVuSans-48\"/>\r\n      </g>\r\n     </g>\r\n    </g>\r\n    <g id=\"xtick_4\">\r\n     <g id=\"line2d_7\">\r\n      <path clip-path=\"url(#p72b62fcad5)\" d=\"M 265.244241 242.6 \r\nL 265.244241 7.2 \r\n\" style=\"fill:none;stroke:#b0b0b0;stroke-linecap:square;stroke-width:0.8;\"/>\r\n     </g>\r\n     <g id=\"line2d_8\">\r\n      <g>\r\n       <use style=\"stroke:#000000;stroke-width:0.8;\" x=\"265.244241\" xlink:href=\"#m49339a7dcc\" y=\"242.6\"/>\r\n      </g>\r\n     </g>\r\n     <g id=\"text_4\">\r\n      <!-- 60 -->\r\n      <defs>\r\n       <path d=\"M 33.015625 40.375 \r\nQ 26.375 40.375 22.484375 35.828125 \r\nQ 18.609375 31.296875 18.609375 23.390625 \r\nQ 18.609375 15.53125 22.484375 10.953125 \r\nQ 26.375 6.390625 33.015625 6.390625 \r\nQ 39.65625 6.390625 43.53125 10.953125 \r\nQ 47.40625 15.53125 47.40625 23.390625 \r\nQ 47.40625 31.296875 43.53125 35.828125 \r\nQ 39.65625 40.375 33.015625 40.375 \r\nz\r\nM 52.59375 71.296875 \r\nL 52.59375 62.3125 \r\nQ 48.875 64.0625 45.09375 64.984375 \r\nQ 41.3125 65.921875 37.59375 65.921875 \r\nQ 27.828125 65.921875 22.671875 59.328125 \r\nQ 17.53125 52.734375 16.796875 39.40625 \r\nQ 19.671875 43.65625 24.015625 45.921875 \r\nQ 28.375 48.1875 33.59375 48.1875 \r\nQ 44.578125 48.1875 50.953125 41.515625 \r\nQ 57.328125 34.859375 57.328125 23.390625 \r\nQ 57.328125 12.15625 50.6875 5.359375 \r\nQ 44.046875 -1.421875 33.015625 -1.421875 \r\nQ 20.359375 -1.421875 13.671875 8.265625 \r\nQ 6.984375 17.96875 6.984375 36.375 \r\nQ 6.984375 53.65625 15.1875 63.9375 \r\nQ 23.390625 74.21875 37.203125 74.21875 \r\nQ 40.921875 74.21875 44.703125 73.484375 \r\nQ 48.484375 72.75 52.59375 71.296875 \r\nz\r\n\" id=\"DejaVuSans-54\"/>\r\n      </defs>\r\n      <g transform=\"translate(258.881741 257.198437)scale(0.1 -0.1)\">\r\n       <use xlink:href=\"#DejaVuSans-54\"/>\r\n       <use x=\"63.623047\" xlink:href=\"#DejaVuSans-48\"/>\r\n      </g>\r\n     </g>\r\n    </g>\r\n    <g id=\"xtick_5\">\r\n     <g id=\"line2d_9\">\r\n      <path clip-path=\"url(#p72b62fcad5)\" d=\"M 334.417794 242.6 \r\nL 334.417794 7.2 \r\n\" style=\"fill:none;stroke:#b0b0b0;stroke-linecap:square;stroke-width:0.8;\"/>\r\n     </g>\r\n     <g id=\"line2d_10\">\r\n      <g>\r\n       <use style=\"stroke:#000000;stroke-width:0.8;\" x=\"334.417794\" xlink:href=\"#m49339a7dcc\" y=\"242.6\"/>\r\n      </g>\r\n     </g>\r\n     <g id=\"text_5\">\r\n      <!-- 80 -->\r\n      <defs>\r\n       <path d=\"M 31.78125 34.625 \r\nQ 24.75 34.625 20.71875 30.859375 \r\nQ 16.703125 27.09375 16.703125 20.515625 \r\nQ 16.703125 13.921875 20.71875 10.15625 \r\nQ 24.75 6.390625 31.78125 6.390625 \r\nQ 38.8125 6.390625 42.859375 10.171875 \r\nQ 46.921875 13.96875 46.921875 20.515625 \r\nQ 46.921875 27.09375 42.890625 30.859375 \r\nQ 38.875 34.625 31.78125 34.625 \r\nz\r\nM 21.921875 38.8125 \r\nQ 15.578125 40.375 12.03125 44.71875 \r\nQ 8.5 49.078125 8.5 55.328125 \r\nQ 8.5 64.0625 14.71875 69.140625 \r\nQ 20.953125 74.21875 31.78125 74.21875 \r\nQ 42.671875 74.21875 48.875 69.140625 \r\nQ 55.078125 64.0625 55.078125 55.328125 \r\nQ 55.078125 49.078125 51.53125 44.71875 \r\nQ 48 40.375 41.703125 38.8125 \r\nQ 48.828125 37.15625 52.796875 32.3125 \r\nQ 56.78125 27.484375 56.78125 20.515625 \r\nQ 56.78125 9.90625 50.3125 4.234375 \r\nQ 43.84375 -1.421875 31.78125 -1.421875 \r\nQ 19.734375 -1.421875 13.25 4.234375 \r\nQ 6.78125 9.90625 6.78125 20.515625 \r\nQ 6.78125 27.484375 10.78125 32.3125 \r\nQ 14.796875 37.15625 21.921875 38.8125 \r\nz\r\nM 18.3125 54.390625 \r\nQ 18.3125 48.734375 21.84375 45.5625 \r\nQ 25.390625 42.390625 31.78125 42.390625 \r\nQ 38.140625 42.390625 41.71875 45.5625 \r\nQ 45.3125 48.734375 45.3125 54.390625 \r\nQ 45.3125 60.0625 41.71875 63.234375 \r\nQ 38.140625 66.40625 31.78125 66.40625 \r\nQ 25.390625 66.40625 21.84375 63.234375 \r\nQ 18.3125 60.0625 18.3125 54.390625 \r\nz\r\n\" id=\"DejaVuSans-56\"/>\r\n      </defs>\r\n      <g transform=\"translate(328.055294 257.198437)scale(0.1 -0.1)\">\r\n       <use xlink:href=\"#DejaVuSans-56\"/>\r\n       <use x=\"63.623047\" xlink:href=\"#DejaVuSans-48\"/>\r\n      </g>\r\n     </g>\r\n    </g>\r\n    <g id=\"xtick_6\">\r\n     <g id=\"line2d_11\">\r\n      <path clip-path=\"url(#p72b62fcad5)\" d=\"M 403.591348 242.6 \r\nL 403.591348 7.2 \r\n\" style=\"fill:none;stroke:#b0b0b0;stroke-linecap:square;stroke-width:0.8;\"/>\r\n     </g>\r\n     <g id=\"line2d_12\">\r\n      <g>\r\n       <use style=\"stroke:#000000;stroke-width:0.8;\" x=\"403.591348\" xlink:href=\"#m49339a7dcc\" y=\"242.6\"/>\r\n      </g>\r\n     </g>\r\n     <g id=\"text_6\">\r\n      <!-- 100 -->\r\n      <defs>\r\n       <path d=\"M 12.40625 8.296875 \r\nL 28.515625 8.296875 \r\nL 28.515625 63.921875 \r\nL 10.984375 60.40625 \r\nL 10.984375 69.390625 \r\nL 28.421875 72.90625 \r\nL 38.28125 72.90625 \r\nL 38.28125 8.296875 \r\nL 54.390625 8.296875 \r\nL 54.390625 0 \r\nL 12.40625 0 \r\nz\r\n\" id=\"DejaVuSans-49\"/>\r\n      </defs>\r\n      <g transform=\"translate(394.047598 257.198437)scale(0.1 -0.1)\">\r\n       <use xlink:href=\"#DejaVuSans-49\"/>\r\n       <use x=\"63.623047\" xlink:href=\"#DejaVuSans-48\"/>\r\n       <use x=\"127.246094\" xlink:href=\"#DejaVuSans-48\"/>\r\n      </g>\r\n     </g>\r\n    </g>\r\n    <g id=\"text_7\">\r\n     <!-- Epochs -->\r\n     <defs>\r\n      <path d=\"M 9.8125 72.90625 \r\nL 55.90625 72.90625 \r\nL 55.90625 64.59375 \r\nL 19.671875 64.59375 \r\nL 19.671875 43.015625 \r\nL 54.390625 43.015625 \r\nL 54.390625 34.71875 \r\nL 19.671875 34.71875 \r\nL 19.671875 8.296875 \r\nL 56.78125 8.296875 \r\nL 56.78125 0 \r\nL 9.8125 0 \r\nz\r\n\" id=\"DejaVuSans-69\"/>\r\n      <path d=\"M 18.109375 8.203125 \r\nL 18.109375 -20.796875 \r\nL 9.078125 -20.796875 \r\nL 9.078125 54.6875 \r\nL 18.109375 54.6875 \r\nL 18.109375 46.390625 \r\nQ 20.953125 51.265625 25.265625 53.625 \r\nQ 29.59375 56 35.59375 56 \r\nQ 45.5625 56 51.78125 48.09375 \r\nQ 58.015625 40.1875 58.015625 27.296875 \r\nQ 58.015625 14.40625 51.78125 6.484375 \r\nQ 45.5625 -1.421875 35.59375 -1.421875 \r\nQ 29.59375 -1.421875 25.265625 0.953125 \r\nQ 20.953125 3.328125 18.109375 8.203125 \r\nz\r\nM 48.6875 27.296875 \r\nQ 48.6875 37.203125 44.609375 42.84375 \r\nQ 40.53125 48.484375 33.40625 48.484375 \r\nQ 26.265625 48.484375 22.1875 42.84375 \r\nQ 18.109375 37.203125 18.109375 27.296875 \r\nQ 18.109375 17.390625 22.1875 11.75 \r\nQ 26.265625 6.109375 33.40625 6.109375 \r\nQ 40.53125 6.109375 44.609375 11.75 \r\nQ 48.6875 17.390625 48.6875 27.296875 \r\nz\r\n\" id=\"DejaVuSans-112\"/>\r\n      <path d=\"M 30.609375 48.390625 \r\nQ 23.390625 48.390625 19.1875 42.75 \r\nQ 14.984375 37.109375 14.984375 27.296875 \r\nQ 14.984375 17.484375 19.15625 11.84375 \r\nQ 23.34375 6.203125 30.609375 6.203125 \r\nQ 37.796875 6.203125 41.984375 11.859375 \r\nQ 46.1875 17.53125 46.1875 27.296875 \r\nQ 46.1875 37.015625 41.984375 42.703125 \r\nQ 37.796875 48.390625 30.609375 48.390625 \r\nz\r\nM 30.609375 56 \r\nQ 42.328125 56 49.015625 48.375 \r\nQ 55.71875 40.765625 55.71875 27.296875 \r\nQ 55.71875 13.875 49.015625 6.21875 \r\nQ 42.328125 -1.421875 30.609375 -1.421875 \r\nQ 18.84375 -1.421875 12.171875 6.21875 \r\nQ 5.515625 13.875 5.515625 27.296875 \r\nQ 5.515625 40.765625 12.171875 48.375 \r\nQ 18.84375 56 30.609375 56 \r\nz\r\n\" id=\"DejaVuSans-111\"/>\r\n      <path d=\"M 48.78125 52.59375 \r\nL 48.78125 44.1875 \r\nQ 44.96875 46.296875 41.140625 47.34375 \r\nQ 37.3125 48.390625 33.40625 48.390625 \r\nQ 24.65625 48.390625 19.8125 42.84375 \r\nQ 14.984375 37.3125 14.984375 27.296875 \r\nQ 14.984375 17.28125 19.8125 11.734375 \r\nQ 24.65625 6.203125 33.40625 6.203125 \r\nQ 37.3125 6.203125 41.140625 7.25 \r\nQ 44.96875 8.296875 48.78125 10.40625 \r\nL 48.78125 2.09375 \r\nQ 45.015625 0.34375 40.984375 -0.53125 \r\nQ 36.96875 -1.421875 32.421875 -1.421875 \r\nQ 20.0625 -1.421875 12.78125 6.34375 \r\nQ 5.515625 14.109375 5.515625 27.296875 \r\nQ 5.515625 40.671875 12.859375 48.328125 \r\nQ 20.21875 56 33.015625 56 \r\nQ 37.15625 56 41.109375 55.140625 \r\nQ 45.0625 54.296875 48.78125 52.59375 \r\nz\r\n\" id=\"DejaVuSans-99\"/>\r\n      <path d=\"M 54.890625 33.015625 \r\nL 54.890625 0 \r\nL 45.90625 0 \r\nL 45.90625 32.71875 \r\nQ 45.90625 40.484375 42.875 44.328125 \r\nQ 39.84375 48.1875 33.796875 48.1875 \r\nQ 26.515625 48.1875 22.3125 43.546875 \r\nQ 18.109375 38.921875 18.109375 30.90625 \r\nL 18.109375 0 \r\nL 9.078125 0 \r\nL 9.078125 75.984375 \r\nL 18.109375 75.984375 \r\nL 18.109375 46.1875 \r\nQ 21.34375 51.125 25.703125 53.5625 \r\nQ 30.078125 56 35.796875 56 \r\nQ 45.21875 56 50.046875 50.171875 \r\nQ 54.890625 44.34375 54.890625 33.015625 \r\nz\r\n\" id=\"DejaVuSans-104\"/>\r\n      <path d=\"M 44.28125 53.078125 \r\nL 44.28125 44.578125 \r\nQ 40.484375 46.53125 36.375 47.5 \r\nQ 32.28125 48.484375 27.875 48.484375 \r\nQ 21.1875 48.484375 17.84375 46.4375 \r\nQ 14.5 44.390625 14.5 40.28125 \r\nQ 14.5 37.15625 16.890625 35.375 \r\nQ 19.28125 33.59375 26.515625 31.984375 \r\nL 29.59375 31.296875 \r\nQ 39.15625 29.25 43.1875 25.515625 \r\nQ 47.21875 21.78125 47.21875 15.09375 \r\nQ 47.21875 7.46875 41.1875 3.015625 \r\nQ 35.15625 -1.421875 24.609375 -1.421875 \r\nQ 20.21875 -1.421875 15.453125 -0.5625 \r\nQ 10.6875 0.296875 5.421875 2 \r\nL 5.421875 11.28125 \r\nQ 10.40625 8.6875 15.234375 7.390625 \r\nQ 20.0625 6.109375 24.8125 6.109375 \r\nQ 31.15625 6.109375 34.5625 8.28125 \r\nQ 37.984375 10.453125 37.984375 14.40625 \r\nQ 37.984375 18.0625 35.515625 20.015625 \r\nQ 33.0625 21.96875 24.703125 23.78125 \r\nL 21.578125 24.515625 \r\nQ 13.234375 26.265625 9.515625 29.90625 \r\nQ 5.8125 33.546875 5.8125 39.890625 \r\nQ 5.8125 47.609375 11.28125 51.796875 \r\nQ 16.75 56 26.8125 56 \r\nQ 31.78125 56 36.171875 55.265625 \r\nQ 40.578125 54.546875 44.28125 53.078125 \r\nz\r\n\" id=\"DejaVuSans-115\"/>\r\n     </defs>\r\n     <g transform=\"translate(211.0125 270.876562)scale(0.1 -0.1)\">\r\n      <use xlink:href=\"#DejaVuSans-69\"/>\r\n      <use x=\"63.183594\" xlink:href=\"#DejaVuSans-112\"/>\r\n      <use x=\"126.660156\" xlink:href=\"#DejaVuSans-111\"/>\r\n      <use x=\"187.841797\" xlink:href=\"#DejaVuSans-99\"/>\r\n      <use x=\"242.822266\" xlink:href=\"#DejaVuSans-104\"/>\r\n      <use x=\"306.201172\" xlink:href=\"#DejaVuSans-115\"/>\r\n     </g>\r\n    </g>\r\n   </g>\r\n   <g id=\"matplotlib.axis_2\">\r\n    <g id=\"ytick_1\">\r\n     <g id=\"line2d_13\">\r\n      <path clip-path=\"url(#p72b62fcad5)\" d=\"M 40.603125 238.911069 \r\nL 417.253125 238.911069 \r\n\" style=\"fill:none;stroke:#b0b0b0;stroke-linecap:square;stroke-width:0.8;\"/>\r\n     </g>\r\n     <g id=\"line2d_14\">\r\n      <defs>\r\n       <path d=\"M 0 0 \r\nL -3.5 0 \r\n\" id=\"m2c2be4ca24\" style=\"stroke:#000000;stroke-width:0.8;\"/>\r\n      </defs>\r\n      <g>\r\n       <use style=\"stroke:#000000;stroke-width:0.8;\" x=\"40.603125\" xlink:href=\"#m2c2be4ca24\" y=\"238.911069\"/>\r\n      </g>\r\n     </g>\r\n     <g id=\"text_8\">\r\n      <!-- 0 -->\r\n      <g transform=\"translate(27.240625 242.710288)scale(0.1 -0.1)\">\r\n       <use xlink:href=\"#DejaVuSans-48\"/>\r\n      </g>\r\n     </g>\r\n    </g>\r\n    <g id=\"ytick_2\">\r\n     <g id=\"line2d_15\">\r\n      <path clip-path=\"url(#p72b62fcad5)\" d=\"M 40.603125 195.914285 \r\nL 417.253125 195.914285 \r\n\" style=\"fill:none;stroke:#b0b0b0;stroke-linecap:square;stroke-width:0.8;\"/>\r\n     </g>\r\n     <g id=\"line2d_16\">\r\n      <g>\r\n       <use style=\"stroke:#000000;stroke-width:0.8;\" x=\"40.603125\" xlink:href=\"#m2c2be4ca24\" y=\"195.914285\"/>\r\n      </g>\r\n     </g>\r\n     <g id=\"text_9\">\r\n      <!-- 2 -->\r\n      <g transform=\"translate(27.240625 199.713504)scale(0.1 -0.1)\">\r\n       <use xlink:href=\"#DejaVuSans-50\"/>\r\n      </g>\r\n     </g>\r\n    </g>\r\n    <g id=\"ytick_3\">\r\n     <g id=\"line2d_17\">\r\n      <path clip-path=\"url(#p72b62fcad5)\" d=\"M 40.603125 152.917501 \r\nL 417.253125 152.917501 \r\n\" style=\"fill:none;stroke:#b0b0b0;stroke-linecap:square;stroke-width:0.8;\"/>\r\n     </g>\r\n     <g id=\"line2d_18\">\r\n      <g>\r\n       <use style=\"stroke:#000000;stroke-width:0.8;\" x=\"40.603125\" xlink:href=\"#m2c2be4ca24\" y=\"152.917501\"/>\r\n      </g>\r\n     </g>\r\n     <g id=\"text_10\">\r\n      <!-- 4 -->\r\n      <g transform=\"translate(27.240625 156.71672)scale(0.1 -0.1)\">\r\n       <use xlink:href=\"#DejaVuSans-52\"/>\r\n      </g>\r\n     </g>\r\n    </g>\r\n    <g id=\"ytick_4\">\r\n     <g id=\"line2d_19\">\r\n      <path clip-path=\"url(#p72b62fcad5)\" d=\"M 40.603125 109.920718 \r\nL 417.253125 109.920718 \r\n\" style=\"fill:none;stroke:#b0b0b0;stroke-linecap:square;stroke-width:0.8;\"/>\r\n     </g>\r\n     <g id=\"line2d_20\">\r\n      <g>\r\n       <use style=\"stroke:#000000;stroke-width:0.8;\" x=\"40.603125\" xlink:href=\"#m2c2be4ca24\" y=\"109.920718\"/>\r\n      </g>\r\n     </g>\r\n     <g id=\"text_11\">\r\n      <!-- 6 -->\r\n      <g transform=\"translate(27.240625 113.719936)scale(0.1 -0.1)\">\r\n       <use xlink:href=\"#DejaVuSans-54\"/>\r\n      </g>\r\n     </g>\r\n    </g>\r\n    <g id=\"ytick_5\">\r\n     <g id=\"line2d_21\">\r\n      <path clip-path=\"url(#p72b62fcad5)\" d=\"M 40.603125 66.923934 \r\nL 417.253125 66.923934 \r\n\" style=\"fill:none;stroke:#b0b0b0;stroke-linecap:square;stroke-width:0.8;\"/>\r\n     </g>\r\n     <g id=\"line2d_22\">\r\n      <g>\r\n       <use style=\"stroke:#000000;stroke-width:0.8;\" x=\"40.603125\" xlink:href=\"#m2c2be4ca24\" y=\"66.923934\"/>\r\n      </g>\r\n     </g>\r\n     <g id=\"text_12\">\r\n      <!-- 8 -->\r\n      <g transform=\"translate(27.240625 70.723153)scale(0.1 -0.1)\">\r\n       <use xlink:href=\"#DejaVuSans-56\"/>\r\n      </g>\r\n     </g>\r\n    </g>\r\n    <g id=\"ytick_6\">\r\n     <g id=\"line2d_23\">\r\n      <path clip-path=\"url(#p72b62fcad5)\" d=\"M 40.603125 23.92715 \r\nL 417.253125 23.92715 \r\n\" style=\"fill:none;stroke:#b0b0b0;stroke-linecap:square;stroke-width:0.8;\"/>\r\n     </g>\r\n     <g id=\"line2d_24\">\r\n      <g>\r\n       <use style=\"stroke:#000000;stroke-width:0.8;\" x=\"40.603125\" xlink:href=\"#m2c2be4ca24\" y=\"23.92715\"/>\r\n      </g>\r\n     </g>\r\n     <g id=\"text_13\">\r\n      <!-- 10 -->\r\n      <g transform=\"translate(20.878125 27.726369)scale(0.1 -0.1)\">\r\n       <use xlink:href=\"#DejaVuSans-49\"/>\r\n       <use x=\"63.623047\" xlink:href=\"#DejaVuSans-48\"/>\r\n      </g>\r\n     </g>\r\n    </g>\r\n    <g id=\"text_14\">\r\n     <!-- Loss -->\r\n     <defs>\r\n      <path d=\"M 9.8125 72.90625 \r\nL 19.671875 72.90625 \r\nL 19.671875 8.296875 \r\nL 55.171875 8.296875 \r\nL 55.171875 0 \r\nL 9.8125 0 \r\nz\r\n\" id=\"DejaVuSans-76\"/>\r\n     </defs>\r\n     <g transform=\"translate(14.798438 135.867187)rotate(-90)scale(0.1 -0.1)\">\r\n      <use xlink:href=\"#DejaVuSans-76\"/>\r\n      <use x=\"53.962891\" xlink:href=\"#DejaVuSans-111\"/>\r\n      <use x=\"115.144531\" xlink:href=\"#DejaVuSans-115\"/>\r\n      <use x=\"167.244141\" xlink:href=\"#DejaVuSans-115\"/>\r\n     </g>\r\n    </g>\r\n   </g>\r\n   <g id=\"line2d_25\">\r\n    <path clip-path=\"url(#p72b62fcad5)\" d=\"M 57.72358 35.444 \r\nL 61.182257 17.9 \r\nL 64.640935 45.236386 \r\nL 68.099613 45.907453 \r\nL 71.55829 61.396593 \r\nL 75.016968 67.230989 \r\nL 78.475646 67.514467 \r\nL 81.934323 112.428487 \r\nL 85.393001 97.44706 \r\nL 88.851679 88.122098 \r\nL 92.310356 84.842052 \r\nL 95.769034 84.829597 \r\nL 99.227712 84.70363 \r\nL 102.686389 84.666756 \r\nL 106.145067 84.657315 \r\nL 109.603745 84.666397 \r\nL 113.062423 84.678699 \r\nL 116.5211 84.669883 \r\nL 119.979778 84.672938 \r\nL 123.438456 84.684501 \r\nL 126.897133 84.651707 \r\nL 130.355811 84.649821 \r\nL 133.814489 84.64734 \r\nL 137.273166 84.663927 \r\nL 140.731844 84.663691 \r\nL 144.190522 84.64079 \r\nL 147.649199 84.60977 \r\nL 151.107877 84.639447 \r\nL 154.566555 84.616105 \r\nL 158.025232 84.644911 \r\nL 161.48391 84.61837 \r\nL 164.942588 84.639724 \r\nL 168.401265 84.628673 \r\nL 171.859943 84.644357 \r\nL 175.318621 84.627679 \r\nL 178.777299 84.615633 \r\nL 182.235976 84.624993 \r\nL 185.694654 84.587268 \r\nL 189.153332 84.632107 \r\nL 192.612009 84.620267 \r\nL 196.070687 84.567873 \r\nL 199.529365 84.563229 \r\nL 202.988042 84.604121 \r\nL 206.44672 84.604121 \r\nL 209.905398 84.583393 \r\nL 213.364075 84.587135 \r\nL 216.822753 84.577314 \r\nL 220.281431 84.572845 \r\nL 223.740108 84.576925 \r\nL 227.198786 84.555284 \r\nL 230.657464 84.556976 \r\nL 234.116142 84.554905 \r\nL 237.574819 84.552988 \r\nL 241.033497 84.548847 \r\nL 244.492175 84.549492 \r\nL 247.950852 84.549841 \r\nL 251.40953 84.544029 \r\nL 254.868208 84.535212 \r\nL 258.326885 84.529574 \r\nL 261.785563 84.521999 \r\nL 265.244241 84.522767 \r\nL 268.702918 84.532076 \r\nL 272.161596 84.510825 \r\nL 275.620274 84.524008 \r\nL 279.078951 84.510866 \r\nL 282.537629 84.5094 \r\nL 285.996307 84.492936 \r\nL 289.454985 84.500235 \r\nL 292.913662 84.513029 \r\nL 296.37234 84.505269 \r\nL 299.831018 84.491522 \r\nL 303.289695 84.490527 \r\nL 306.748373 84.483167 \r\nL 310.207051 84.495714 \r\nL 313.665728 84.444797 \r\nL 317.124406 84.467401 \r\nL 320.583084 84.492229 \r\nL 324.041761 84.458431 \r\nL 327.500439 84.447769 \r\nL 330.959117 84.467524 \r\nL 334.417794 84.433028 \r\nL 337.876472 84.41434 \r\nL 341.33515 84.449092 \r\nL 344.793827 84.445309 \r\nL 348.252505 84.435776 \r\nL 351.711183 84.41433 \r\nL 355.169861 84.436227 \r\nL 358.628538 84.414771 \r\nL 362.087216 84.421598 \r\nL 365.545894 84.419773 \r\nL 369.004571 84.415652 \r\nL 372.463249 84.413612 \r\nL 375.921927 84.42902 \r\nL 379.380604 84.410506 \r\nL 382.839282 84.410763 \r\nL 386.29796 84.422336 \r\nL 389.756637 84.377477 \r\nL 393.215315 84.375262 \r\nL 396.673993 84.382766 \r\nL 400.13267 84.363402 \r\n\" style=\"fill:none;stroke:#1f77b4;stroke-linecap:square;stroke-width:1.5;\"/>\r\n   </g>\r\n   <g id=\"line2d_26\">\r\n    <path clip-path=\"url(#p72b62fcad5)\" d=\"M 57.72358 231.062228 \r\nL 61.182257 231.871168 \r\nL 64.640935 231.877514 \r\nL 68.099613 231.859432 \r\nL 71.55829 231.868074 \r\nL 75.016968 231.887526 \r\nL 78.475646 231.851205 \r\nL 81.934323 231.777204 \r\nL 85.393001 231.878168 \r\nL 88.851679 231.894501 \r\nL 92.310356 231.899424 \r\nL 95.769034 231.899507 \r\nL 99.227712 231.899587 \r\nL 102.686389 231.899732 \r\nL 106.145067 231.899668 \r\nL 109.603745 231.899667 \r\nL 113.062423 231.899681 \r\nL 116.5211 231.899641 \r\nL 119.979778 231.899701 \r\nL 123.438456 231.899678 \r\nL 126.897133 231.899669 \r\nL 130.355811 231.899699 \r\nL 133.814489 231.899692 \r\nL 137.273166 231.899682 \r\nL 140.731844 231.89969 \r\nL 144.190522 231.899709 \r\nL 147.649199 231.899696 \r\nL 151.107877 231.899713 \r\nL 154.566555 231.899732 \r\nL 158.025232 231.899742 \r\nL 161.48391 231.899738 \r\nL 164.942588 231.899728 \r\nL 168.401265 231.899767 \r\nL 171.859943 231.899752 \r\nL 175.318621 231.899778 \r\nL 178.777299 231.89975 \r\nL 182.235976 231.899756 \r\nL 185.694654 231.899719 \r\nL 189.153332 231.899778 \r\nL 192.612009 231.899782 \r\nL 196.070687 231.899774 \r\nL 199.529365 231.899783 \r\nL 202.988042 231.899783 \r\nL 206.44672 231.89978 \r\nL 209.905398 231.899793 \r\nL 213.364075 231.899794 \r\nL 216.822753 231.899776 \r\nL 220.281431 231.899801 \r\nL 223.740108 231.899806 \r\nL 227.198786 231.899821 \r\nL 230.657464 231.899822 \r\nL 234.116142 231.899821 \r\nL 237.574819 231.899808 \r\nL 241.033497 231.899782 \r\nL 244.492175 231.899807 \r\nL 247.950852 231.8998 \r\nL 251.40953 231.899839 \r\nL 254.868208 231.89984 \r\nL 258.326885 231.899847 \r\nL 261.785563 231.899855 \r\nL 265.244241 231.899876 \r\nL 268.702918 231.899828 \r\nL 272.161596 231.899865 \r\nL 275.620274 231.899845 \r\nL 279.078951 231.899878 \r\nL 282.537629 231.899899 \r\nL 285.996307 231.899873 \r\nL 289.454985 231.899881 \r\nL 292.913662 231.899861 \r\nL 296.37234 231.899879 \r\nL 299.831018 231.899871 \r\nL 303.289695 231.8999 \r\nL 306.748373 231.89987 \r\nL 310.207051 231.899902 \r\nL 313.665728 231.899887 \r\nL 317.124406 231.899906 \r\nL 320.583084 231.899893 \r\nL 324.041761 231.899905 \r\nL 327.500439 231.899914 \r\nL 330.959117 231.899938 \r\nL 334.417794 231.899903 \r\nL 337.876472 231.899925 \r\nL 341.33515 231.899898 \r\nL 344.793827 231.899932 \r\nL 348.252505 231.899936 \r\nL 351.711183 231.899915 \r\nL 355.169861 231.899937 \r\nL 358.628538 231.899981 \r\nL 362.087216 231.89996 \r\nL 365.545894 231.89994 \r\nL 369.004571 231.899937 \r\nL 372.463249 231.899928 \r\nL 375.921927 231.899946 \r\nL 379.380604 231.899936 \r\nL 382.839282 231.899971 \r\nL 386.29796 231.89998 \r\nL 389.756637 231.89996 \r\nL 393.215315 231.89996 \r\nL 396.673993 231.9 \r\nL 400.13267 231.899965 \r\n\" style=\"fill:none;stroke:#ff7f0e;stroke-linecap:square;stroke-width:1.5;\"/>\r\n   </g>\r\n   <g id=\"patch_3\">\r\n    <path d=\"M 40.603125 242.6 \r\nL 40.603125 7.2 \r\n\" style=\"fill:none;stroke:#000000;stroke-linecap:square;stroke-linejoin:miter;stroke-width:0.8;\"/>\r\n   </g>\r\n   <g id=\"patch_4\">\r\n    <path d=\"M 417.253125 242.6 \r\nL 417.253125 7.2 \r\n\" style=\"fill:none;stroke:#000000;stroke-linecap:square;stroke-linejoin:miter;stroke-width:0.8;\"/>\r\n   </g>\r\n   <g id=\"patch_5\">\r\n    <path d=\"M 40.603125 242.6 \r\nL 417.253125 242.6 \r\n\" style=\"fill:none;stroke:#000000;stroke-linecap:square;stroke-linejoin:miter;stroke-width:0.8;\"/>\r\n   </g>\r\n   <g id=\"patch_6\">\r\n    <path d=\"M 40.603125 7.2 \r\nL 417.253125 7.2 \r\n\" style=\"fill:none;stroke:#000000;stroke-linecap:square;stroke-linejoin:miter;stroke-width:0.8;\"/>\r\n   </g>\r\n   <g id=\"legend_1\">\r\n    <g id=\"patch_7\">\r\n     <path d=\"M 288.55 237.6 \r\nL 410.253125 237.6 \r\nQ 412.253125 237.6 412.253125 235.6 \r\nL 412.253125 207.24375 \r\nQ 412.253125 205.24375 410.253125 205.24375 \r\nL 288.55 205.24375 \r\nQ 286.55 205.24375 286.55 207.24375 \r\nL 286.55 235.6 \r\nQ 286.55 237.6 288.55 237.6 \r\nz\r\n\" style=\"fill:#ffffff;opacity:0.8;stroke:#cccccc;stroke-linejoin:miter;\"/>\r\n    </g>\r\n    <g id=\"line2d_27\">\r\n     <path d=\"M 290.55 213.342187 \r\nL 310.55 213.342187 \r\n\" style=\"fill:none;stroke:#1f77b4;stroke-linecap:square;stroke-width:1.5;\"/>\r\n    </g>\r\n    <g id=\"line2d_28\"/>\r\n    <g id=\"text_15\">\r\n     <!-- Generator loss -->\r\n     <defs>\r\n      <path d=\"M 59.515625 10.40625 \r\nL 59.515625 29.984375 \r\nL 43.40625 29.984375 \r\nL 43.40625 38.09375 \r\nL 69.28125 38.09375 \r\nL 69.28125 6.78125 \r\nQ 63.578125 2.734375 56.6875 0.65625 \r\nQ 49.8125 -1.421875 42 -1.421875 \r\nQ 24.90625 -1.421875 15.25 8.5625 \r\nQ 5.609375 18.5625 5.609375 36.375 \r\nQ 5.609375 54.25 15.25 64.234375 \r\nQ 24.90625 74.21875 42 74.21875 \r\nQ 49.125 74.21875 55.546875 72.453125 \r\nQ 61.96875 70.703125 67.390625 67.28125 \r\nL 67.390625 56.78125 \r\nQ 61.921875 61.421875 55.765625 63.765625 \r\nQ 49.609375 66.109375 42.828125 66.109375 \r\nQ 29.4375 66.109375 22.71875 58.640625 \r\nQ 16.015625 51.171875 16.015625 36.375 \r\nQ 16.015625 21.625 22.71875 14.15625 \r\nQ 29.4375 6.6875 42.828125 6.6875 \r\nQ 48.046875 6.6875 52.140625 7.59375 \r\nQ 56.25 8.5 59.515625 10.40625 \r\nz\r\n\" id=\"DejaVuSans-71\"/>\r\n      <path d=\"M 56.203125 29.59375 \r\nL 56.203125 25.203125 \r\nL 14.890625 25.203125 \r\nQ 15.484375 15.921875 20.484375 11.0625 \r\nQ 25.484375 6.203125 34.421875 6.203125 \r\nQ 39.59375 6.203125 44.453125 7.46875 \r\nQ 49.3125 8.734375 54.109375 11.28125 \r\nL 54.109375 2.78125 \r\nQ 49.265625 0.734375 44.1875 -0.34375 \r\nQ 39.109375 -1.421875 33.890625 -1.421875 \r\nQ 20.796875 -1.421875 13.15625 6.1875 \r\nQ 5.515625 13.8125 5.515625 26.8125 \r\nQ 5.515625 40.234375 12.765625 48.109375 \r\nQ 20.015625 56 32.328125 56 \r\nQ 43.359375 56 49.78125 48.890625 \r\nQ 56.203125 41.796875 56.203125 29.59375 \r\nz\r\nM 47.21875 32.234375 \r\nQ 47.125 39.59375 43.09375 43.984375 \r\nQ 39.0625 48.390625 32.421875 48.390625 \r\nQ 24.90625 48.390625 20.390625 44.140625 \r\nQ 15.875 39.890625 15.1875 32.171875 \r\nz\r\n\" id=\"DejaVuSans-101\"/>\r\n      <path d=\"M 54.890625 33.015625 \r\nL 54.890625 0 \r\nL 45.90625 0 \r\nL 45.90625 32.71875 \r\nQ 45.90625 40.484375 42.875 44.328125 \r\nQ 39.84375 48.1875 33.796875 48.1875 \r\nQ 26.515625 48.1875 22.3125 43.546875 \r\nQ 18.109375 38.921875 18.109375 30.90625 \r\nL 18.109375 0 \r\nL 9.078125 0 \r\nL 9.078125 54.6875 \r\nL 18.109375 54.6875 \r\nL 18.109375 46.1875 \r\nQ 21.34375 51.125 25.703125 53.5625 \r\nQ 30.078125 56 35.796875 56 \r\nQ 45.21875 56 50.046875 50.171875 \r\nQ 54.890625 44.34375 54.890625 33.015625 \r\nz\r\n\" id=\"DejaVuSans-110\"/>\r\n      <path d=\"M 41.109375 46.296875 \r\nQ 39.59375 47.171875 37.8125 47.578125 \r\nQ 36.03125 48 33.890625 48 \r\nQ 26.265625 48 22.1875 43.046875 \r\nQ 18.109375 38.09375 18.109375 28.8125 \r\nL 18.109375 0 \r\nL 9.078125 0 \r\nL 9.078125 54.6875 \r\nL 18.109375 54.6875 \r\nL 18.109375 46.1875 \r\nQ 20.953125 51.171875 25.484375 53.578125 \r\nQ 30.03125 56 36.53125 56 \r\nQ 37.453125 56 38.578125 55.875 \r\nQ 39.703125 55.765625 41.0625 55.515625 \r\nz\r\n\" id=\"DejaVuSans-114\"/>\r\n      <path d=\"M 34.28125 27.484375 \r\nQ 23.390625 27.484375 19.1875 25 \r\nQ 14.984375 22.515625 14.984375 16.5 \r\nQ 14.984375 11.71875 18.140625 8.90625 \r\nQ 21.296875 6.109375 26.703125 6.109375 \r\nQ 34.1875 6.109375 38.703125 11.40625 \r\nQ 43.21875 16.703125 43.21875 25.484375 \r\nL 43.21875 27.484375 \r\nz\r\nM 52.203125 31.203125 \r\nL 52.203125 0 \r\nL 43.21875 0 \r\nL 43.21875 8.296875 \r\nQ 40.140625 3.328125 35.546875 0.953125 \r\nQ 30.953125 -1.421875 24.3125 -1.421875 \r\nQ 15.921875 -1.421875 10.953125 3.296875 \r\nQ 6 8.015625 6 15.921875 \r\nQ 6 25.140625 12.171875 29.828125 \r\nQ 18.359375 34.515625 30.609375 34.515625 \r\nL 43.21875 34.515625 \r\nL 43.21875 35.40625 \r\nQ 43.21875 41.609375 39.140625 45 \r\nQ 35.0625 48.390625 27.6875 48.390625 \r\nQ 23 48.390625 18.546875 47.265625 \r\nQ 14.109375 46.140625 10.015625 43.890625 \r\nL 10.015625 52.203125 \r\nQ 14.9375 54.109375 19.578125 55.046875 \r\nQ 24.21875 56 28.609375 56 \r\nQ 40.484375 56 46.34375 49.84375 \r\nQ 52.203125 43.703125 52.203125 31.203125 \r\nz\r\n\" id=\"DejaVuSans-97\"/>\r\n      <path d=\"M 18.3125 70.21875 \r\nL 18.3125 54.6875 \r\nL 36.8125 54.6875 \r\nL 36.8125 47.703125 \r\nL 18.3125 47.703125 \r\nL 18.3125 18.015625 \r\nQ 18.3125 11.328125 20.140625 9.421875 \r\nQ 21.96875 7.515625 27.59375 7.515625 \r\nL 36.8125 7.515625 \r\nL 36.8125 0 \r\nL 27.59375 0 \r\nQ 17.1875 0 13.234375 3.875 \r\nQ 9.28125 7.765625 9.28125 18.015625 \r\nL 9.28125 47.703125 \r\nL 2.6875 47.703125 \r\nL 2.6875 54.6875 \r\nL 9.28125 54.6875 \r\nL 9.28125 70.21875 \r\nz\r\n\" id=\"DejaVuSans-116\"/>\r\n      <path id=\"DejaVuSans-32\"/>\r\n      <path d=\"M 9.421875 75.984375 \r\nL 18.40625 75.984375 \r\nL 18.40625 0 \r\nL 9.421875 0 \r\nz\r\n\" id=\"DejaVuSans-108\"/>\r\n     </defs>\r\n     <g transform=\"translate(318.55 216.842187)scale(0.1 -0.1)\">\r\n      <use xlink:href=\"#DejaVuSans-71\"/>\r\n      <use x=\"77.490234\" xlink:href=\"#DejaVuSans-101\"/>\r\n      <use x=\"139.013672\" xlink:href=\"#DejaVuSans-110\"/>\r\n      <use x=\"202.392578\" xlink:href=\"#DejaVuSans-101\"/>\r\n      <use x=\"263.916016\" xlink:href=\"#DejaVuSans-114\"/>\r\n      <use x=\"305.029297\" xlink:href=\"#DejaVuSans-97\"/>\r\n      <use x=\"366.308594\" xlink:href=\"#DejaVuSans-116\"/>\r\n      <use x=\"405.517578\" xlink:href=\"#DejaVuSans-111\"/>\r\n      <use x=\"466.699219\" xlink:href=\"#DejaVuSans-114\"/>\r\n      <use x=\"507.8125\" xlink:href=\"#DejaVuSans-32\"/>\r\n      <use x=\"539.599609\" xlink:href=\"#DejaVuSans-108\"/>\r\n      <use x=\"567.382812\" xlink:href=\"#DejaVuSans-111\"/>\r\n      <use x=\"628.564453\" xlink:href=\"#DejaVuSans-115\"/>\r\n      <use x=\"680.664062\" xlink:href=\"#DejaVuSans-115\"/>\r\n     </g>\r\n    </g>\r\n    <g id=\"line2d_29\">\r\n     <path d=\"M 290.55 228.020312 \r\nL 310.55 228.020312 \r\n\" style=\"fill:none;stroke:#ff7f0e;stroke-linecap:square;stroke-width:1.5;\"/>\r\n    </g>\r\n    <g id=\"line2d_30\"/>\r\n    <g id=\"text_16\">\r\n     <!-- Discriminator loss -->\r\n     <defs>\r\n      <path d=\"M 19.671875 64.796875 \r\nL 19.671875 8.109375 \r\nL 31.59375 8.109375 \r\nQ 46.6875 8.109375 53.6875 14.9375 \r\nQ 60.6875 21.78125 60.6875 36.53125 \r\nQ 60.6875 51.171875 53.6875 57.984375 \r\nQ 46.6875 64.796875 31.59375 64.796875 \r\nz\r\nM 9.8125 72.90625 \r\nL 30.078125 72.90625 \r\nQ 51.265625 72.90625 61.171875 64.09375 \r\nQ 71.09375 55.28125 71.09375 36.53125 \r\nQ 71.09375 17.671875 61.125 8.828125 \r\nQ 51.171875 0 30.078125 0 \r\nL 9.8125 0 \r\nz\r\n\" id=\"DejaVuSans-68\"/>\r\n      <path d=\"M 9.421875 54.6875 \r\nL 18.40625 54.6875 \r\nL 18.40625 0 \r\nL 9.421875 0 \r\nz\r\nM 9.421875 75.984375 \r\nL 18.40625 75.984375 \r\nL 18.40625 64.59375 \r\nL 9.421875 64.59375 \r\nz\r\n\" id=\"DejaVuSans-105\"/>\r\n      <path d=\"M 52 44.1875 \r\nQ 55.375 50.25 60.0625 53.125 \r\nQ 64.75 56 71.09375 56 \r\nQ 79.640625 56 84.28125 50.015625 \r\nQ 88.921875 44.046875 88.921875 33.015625 \r\nL 88.921875 0 \r\nL 79.890625 0 \r\nL 79.890625 32.71875 \r\nQ 79.890625 40.578125 77.09375 44.375 \r\nQ 74.3125 48.1875 68.609375 48.1875 \r\nQ 61.625 48.1875 57.5625 43.546875 \r\nQ 53.515625 38.921875 53.515625 30.90625 \r\nL 53.515625 0 \r\nL 44.484375 0 \r\nL 44.484375 32.71875 \r\nQ 44.484375 40.625 41.703125 44.40625 \r\nQ 38.921875 48.1875 33.109375 48.1875 \r\nQ 26.21875 48.1875 22.15625 43.53125 \r\nQ 18.109375 38.875 18.109375 30.90625 \r\nL 18.109375 0 \r\nL 9.078125 0 \r\nL 9.078125 54.6875 \r\nL 18.109375 54.6875 \r\nL 18.109375 46.1875 \r\nQ 21.1875 51.21875 25.484375 53.609375 \r\nQ 29.78125 56 35.6875 56 \r\nQ 41.65625 56 45.828125 52.96875 \r\nQ 50 49.953125 52 44.1875 \r\nz\r\n\" id=\"DejaVuSans-109\"/>\r\n     </defs>\r\n     <g transform=\"translate(318.55 231.520312)scale(0.1 -0.1)\">\r\n      <use xlink:href=\"#DejaVuSans-68\"/>\r\n      <use x=\"77.001953\" xlink:href=\"#DejaVuSans-105\"/>\r\n      <use x=\"104.785156\" xlink:href=\"#DejaVuSans-115\"/>\r\n      <use x=\"156.884766\" xlink:href=\"#DejaVuSans-99\"/>\r\n      <use x=\"211.865234\" xlink:href=\"#DejaVuSans-114\"/>\r\n      <use x=\"252.978516\" xlink:href=\"#DejaVuSans-105\"/>\r\n      <use x=\"280.761719\" xlink:href=\"#DejaVuSans-109\"/>\r\n      <use x=\"378.173828\" xlink:href=\"#DejaVuSans-105\"/>\r\n      <use x=\"405.957031\" xlink:href=\"#DejaVuSans-110\"/>\r\n      <use x=\"469.335938\" xlink:href=\"#DejaVuSans-97\"/>\r\n      <use x=\"530.615234\" xlink:href=\"#DejaVuSans-116\"/>\r\n      <use x=\"569.824219\" xlink:href=\"#DejaVuSans-111\"/>\r\n      <use x=\"631.005859\" xlink:href=\"#DejaVuSans-114\"/>\r\n      <use x=\"672.119141\" xlink:href=\"#DejaVuSans-32\"/>\r\n      <use x=\"703.90625\" xlink:href=\"#DejaVuSans-108\"/>\r\n      <use x=\"731.689453\" xlink:href=\"#DejaVuSans-111\"/>\r\n      <use x=\"792.871094\" xlink:href=\"#DejaVuSans-115\"/>\r\n      <use x=\"844.970703\" xlink:href=\"#DejaVuSans-115\"/>\r\n     </g>\r\n    </g>\r\n   </g>\r\n  </g>\r\n </g>\r\n <defs>\r\n  <clipPath id=\"p72b62fcad5\">\r\n   <rect height=\"235.4\" width=\"376.65\" x=\"40.603125\" y=\"7.2\"/>\r\n  </clipPath>\r\n </defs>\r\n</svg>\r\n",
      "image/png": "[encoded data removed]"
     },
     "metadata": {
      "needs_background": "light"
     }
    }
   ],
   "source": [
    "graph_loss(loss_dict, save=True, path='./GAN_graph.png')"
   ]
  },
  {
   "cell_type": "code",
   "execution_count": 124,
   "metadata": {},
   "outputs": [],
   "source": [
    "images = []\n",
    "for e in range(EPOCHS):\n",
    "    img_name = 'Results/Fixed/' + str(e + 1) + '.png'\n",
    "    images.append(imageio.imread(img_name))\n",
    "imageio.mimsave('Results/generation_animation.gif', images, fps=5)"
   ]
  },
  {
   "cell_type": "code",
   "execution_count": null,
   "metadata": {},
   "outputs": [],
   "source": []
  }
 ]
}